{
 "cells": [
  {
   "cell_type": "markdown",
   "id": "92b8554f",
   "metadata": {},
   "source": [
    "## Opdracht X: Favoriete Kleuren\n",
    "\n",
    "Deze dictionary slaat de favoriete kleur van een paar vrienden op:\n"
   ]
  },
  {
   "cell_type": "code",
   "execution_count": 8,
   "id": "1019e944",
   "metadata": {},
   "outputs": [],
   "source": [
    "favoriete_kleuren = {\n",
    "    \"Anna\": \"blauw\",\n",
    "    \"Ben\": \"groen\",\n",
    "    \"Carla\": \"rood\",\n",
    "    \"David\": \"blauw\",\n",
    "    \"Eva\": \"groen\"\n",
    "}"
   ]
  },
  {
   "cell_type": "markdown",
   "id": "1aa529fa",
   "metadata": {},
   "source": [
    "Vraag Xa: Wat is de favoriete kleur van Carla?"
   ]
  },
  {
   "cell_type": "code",
   "execution_count": 4,
   "id": "88455f05",
   "metadata": {},
   "outputs": [
    {
     "name": "stdout",
     "output_type": "stream",
     "text": [
      "Carla's favoriete kleur is rood.\n"
     ]
    }
   ],
   "source": [
    "kleur_carla = favoriete_kleuren[\"Carla\"]\n",
    "print(f\"Carla's favoriete kleur is {kleur_carla}.\")\n",
    "# Output: Carla's favoriete kleur is rood."
   ]
  },
  {
   "cell_type": "markdown",
   "id": "55a9ce96",
   "metadata": {},
   "source": [
    "Vraag Xb: Heeft Finn een favoriete kleur opgegeven in deze lijst? (Controleer of de key \"Finn\" bestaat)."
   ]
  },
  {
   "cell_type": "code",
   "execution_count": 5,
   "id": "0d318eb9",
   "metadata": {},
   "outputs": [
    {
     "name": "stdout",
     "output_type": "stream",
     "text": [
      "Heeft Finn een kleur opgegeven? False\n"
     ]
    }
   ],
   "source": [
    "heeft_finn_kleur = \"Finn\" in favoriete_kleuren\n",
    "print(f\"Heeft Finn een kleur opgegeven? {heeft_finn_kleur}\")\n",
    "# Output: Heeft Finn een kleur opgegeven? False"
   ]
  },
  {
   "cell_type": "markdown",
   "id": "f20dd152",
   "metadata": {},
   "source": [
    "Vraag Xc: Wiens favoriete kleur is groen?\n",
    "\n",
    "Print alle namen van de mensen van wie de favoriete kleur groen is."
   ]
  },
  {
   "cell_type": "code",
   "execution_count": 9,
   "id": "cb82ead6",
   "metadata": {},
   "outputs": [
    {
     "name": "stdout",
     "output_type": "stream",
     "text": [
      "Ben\n",
      "Eva\n"
     ]
    }
   ],
   "source": [
    "for naam, kleur in favoriete_kleuren.items():\n",
    "    if kleur == \"groen\":\n",
    "        print(naam)"
   ]
  },
  {
   "cell_type": "markdown",
   "id": "b2552e72",
   "metadata": {},
   "source": [
    "Opdracht X: Dierentuin Avontuur\n",
    "Deze dictionary bevat informatie over een paar dieren in de dierentuin."
   ]
  },
  {
   "cell_type": "code",
   "execution_count": 10,
   "id": "ba5b48e9",
   "metadata": {},
   "outputs": [],
   "source": [
    "dierentuin = {\n",
    "    \"Leeuw\": {\n",
    "        \"soort\": \"Zoogdier\",\n",
    "        \"verblijf\": \"Savanne\",\n",
    "        \"dieet\": [\"vlees\"],\n",
    "        \"aantal\": 2\n",
    "    },\n",
    "    \"Olifant\": {\n",
    "        \"soort\": \"Zoogdier\",\n",
    "        \"verblijf\": \"Jungle\",\n",
    "        \"dieet\": [\"planten\", \"fruit\", \"bladeren\"],\n",
    "        \"aantal\": 1\n",
    "    },\n",
    "    \"Pinguïn\": {\n",
    "        \"soort\": \"Vogel\",\n",
    "        \"verblijf\": \"Poolgebied\",\n",
    "        \"dieet\": [\"vis\", \"kril\"],\n",
    "        \"aantal\": 15\n",
    "    },\n",
    "    \"Slang\": {\n",
    "        \"soort\": \"Reptiel\",\n",
    "        \"verblijf\": \"Terrarium\",\n",
    "        \"dieet\": [\"muizen\", \"ratten\"],\n",
    "        \"aantal\": 3\n",
    "    }\n",
    "}"
   ]
  },
  {
   "cell_type": "markdown",
   "id": "9fada858",
   "metadata": {},
   "source": [
    "Vraag Xa: In welk type verblijf woont de Olifant?"
   ]
  },
  {
   "cell_type": "code",
   "execution_count": 11,
   "id": "265b46fc",
   "metadata": {},
   "outputs": [
    {
     "name": "stdout",
     "output_type": "stream",
     "text": [
      "De Olifant woont in het verblijf: Jungle\n"
     ]
    }
   ],
   "source": [
    "# Antwoord 4a\n",
    "verblijf_olifant = dierentuin[\"Olifant\"][\"verblijf\"]\n",
    "print(f\"De Olifant woont in het verblijf: {verblijf_olifant}\")\n",
    "# Output: De Olifant woont in het verblijf: Jungle"
   ]
  },
  {
   "cell_type": "markdown",
   "id": "b5b6d996",
   "metadata": {},
   "source": [
    "Vraag Xb: Wat staat er allemaal op het menu van de Pinguïn? (Geef de lijst met dieet-items)."
   ]
  },
  {
   "cell_type": "code",
   "execution_count": 12,
   "id": "c188118b",
   "metadata": {},
   "outputs": [
    {
     "name": "stdout",
     "output_type": "stream",
     "text": [
      "Het dieet van de Pinguïn is: ['vis', 'kril']\n"
     ]
    }
   ],
   "source": [
    "dieet_pinguin = dierentuin[\"Pinguïn\"][\"dieet\"]\n",
    "print(f\"Het dieet van de Pinguïn is: {dieet_pinguin}\")\n",
    "# Output: Het dieet van de Pinguïn is: vis, kril"
   ]
  },
  {
   "cell_type": "markdown",
   "id": "29104280",
   "metadata": {},
   "source": [
    "Vraag Xc: Hoeveel Leeuwen zijn er in de dierentuin?"
   ]
  },
  {
   "cell_type": "code",
   "execution_count": 13,
   "id": "2364cb6d",
   "metadata": {},
   "outputs": [
    {
     "name": "stdout",
     "output_type": "stream",
     "text": [
      "Er zijn 2 Leeuwen.\n"
     ]
    }
   ],
   "source": [
    "# Antwoord 4c\n",
    "aantal_leeuwen = dierentuin[\"Leeuw\"][\"aantal\"]\n",
    "print(f\"Er zijn {aantal_leeuwen} Leeuwen.\")\n",
    "# Output: Er zijn 2 Leeuwen."
   ]
  },
  {
   "cell_type": "markdown",
   "id": "cd7c20fc",
   "metadata": {},
   "source": [
    "Vraag Xe: Welke dieren zijn Zoogdieren?"
   ]
  },
  {
   "cell_type": "code",
   "execution_count": 14,
   "id": "350060d1",
   "metadata": {},
   "outputs": [
    {
     "name": "stdout",
     "output_type": "stream",
     "text": [
      "['Leeuw', 'Olifant']\n"
     ]
    }
   ],
   "source": [
    "zoogdieren = []\n",
    "for dier, info in dierentuin.items():\n",
    "    if info[\"soort\"] == \"Zoogdier\":\n",
    "        zoogdieren.append(dier)\n",
    "\n",
    "print(zoogdieren)"
   ]
  },
  {
   "cell_type": "markdown",
   "id": "b0d7a5bb",
   "metadata": {},
   "source": [
    "Vraag Xf: Hoeveel dieren zijn er in totaal in de dierentuin?"
   ]
  },
  {
   "cell_type": "code",
   "execution_count": 15,
   "id": "f2b8bd88",
   "metadata": {},
   "outputs": [
    {
     "name": "stdout",
     "output_type": "stream",
     "text": [
      "21\n"
     ]
    }
   ],
   "source": [
    "aantal_dieren = 0\n",
    "for dier, info in dierentuin.items():\n",
    "    aantal_dieren += info['aantal']\n",
    "\n",
    "print(aantal_dieren)"
   ]
  },
  {
   "cell_type": "markdown",
   "id": "577c8a56",
   "metadata": {},
   "source": []
  }
 ],
 "metadata": {
  "kernelspec": {
   "display_name": "base",
   "language": "python",
   "name": "python3"
  },
  "language_info": {
   "codemirror_mode": {
    "name": "ipython",
    "version": 3
   },
   "file_extension": ".py",
   "mimetype": "text/x-python",
   "name": "python",
   "nbconvert_exporter": "python",
   "pygments_lexer": "ipython3",
   "version": "3.12.7"
  }
 },
 "nbformat": 4,
 "nbformat_minor": 5
}
